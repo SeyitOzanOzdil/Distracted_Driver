{
  "nbformat": 4,
  "nbformat_minor": 0,
  "metadata": {
    "kernelspec": {
      "name": "python3",
      "display_name": "Python 3"
    },
    "language_info": {
      "codemirror_mode": {
        "name": "ipython",
        "version": 3
      },
      "file_extension": ".py",
      "mimetype": "text/x-python",
      "name": "python",
      "nbconvert_exporter": "python",
      "pygments_lexer": "ipython3",
      "version": "3.5.3"
    },
    "colab": {
      "name": "VGG 16.ipynb",
      "provenance": [],
      "collapsed_sections": [],
      "machine_shape": "hm"
    },
    "accelerator": "GPU"
  },
  "cells": [
    {
      "cell_type": "code",
      "metadata": {
        "id": "zzh-gXUbSaMw",
        "colab_type": "code",
        "outputId": "81668a53-f2a5-46c4-eab0-7ec5d9d34866",
        "colab": {
          "base_uri": "https://localhost:8080/",
          "height": 34
        }
      },
      "source": [
        "%tensorflow_version 1.x"
      ],
      "execution_count": 1,
      "outputs": [
        {
          "output_type": "stream",
          "text": [
            "TensorFlow 1.x selected.\n"
          ],
          "name": "stdout"
        }
      ]
    },
    {
      "cell_type": "code",
      "metadata": {
        "id": "1V2GNiiCSq0-",
        "colab_type": "code",
        "outputId": "c5487acb-9fe7-4f93-d489-28042dae3eba",
        "colab": {
          "base_uri": "https://localhost:8080/",
          "height": 34
        }
      },
      "source": [
        "import tensorflow as tf\n",
        "print(tf.__version__)"
      ],
      "execution_count": 2,
      "outputs": [
        {
          "output_type": "stream",
          "text": [
            "1.15.2\n"
          ],
          "name": "stdout"
        }
      ]
    },
    {
      "cell_type": "code",
      "metadata": {
        "id": "fSgCxoFfF18D",
        "colab_type": "code",
        "outputId": "fb65a732-a328-4d9c-bdbe-7b0b4fc27c4d",
        "colab": {
          "base_uri": "https://localhost:8080/",
          "height": 122
        }
      },
      "source": [
        "from google.colab import drive\n",
        "from pathlib import Path\n",
        "\n",
        "drive.mount(\"/content/drive\", force_remount=True)"
      ],
      "execution_count": 3,
      "outputs": [
        {
          "output_type": "stream",
          "text": [
            "Go to this URL in a browser: https://accounts.google.com/o/oauth2/auth?client_id=947318989803-6bn6qk8qdgf4n4g3pfee6491hc0brc4i.apps.googleusercontent.com&redirect_uri=urn%3aietf%3awg%3aoauth%3a2.0%3aoob&response_type=code&scope=email%20https%3a%2f%2fwww.googleapis.com%2fauth%2fdocs.test%20https%3a%2f%2fwww.googleapis.com%2fauth%2fdrive%20https%3a%2f%2fwww.googleapis.com%2fauth%2fdrive.photos.readonly%20https%3a%2f%2fwww.googleapis.com%2fauth%2fpeopleapi.readonly\n",
            "\n",
            "Enter your authorization code:\n",
            "··········\n",
            "Mounted at /content/drive\n"
          ],
          "name": "stdout"
        }
      ]
    },
    {
      "cell_type": "code",
      "metadata": {
        "id": "8kReM2JzGFnH",
        "colab_type": "code",
        "colab": {}
      },
      "source": [
        "import sys\n",
        "base = Path('/content/drive/My Drive')\n",
        "sys.path.append(str(base))"
      ],
      "execution_count": 0,
      "outputs": []
    },
    {
      "cell_type": "code",
      "metadata": {
        "id": "U2jAQGTFGIaB",
        "colab_type": "code",
        "colab": {}
      },
      "source": [
        "zip_path = base/'ddd.zip'\n",
        "!cp \"{zip_path}\" .\n",
        "!unzip -q ddd.zip\n",
        "!rm ddd.zip"
      ],
      "execution_count": 0,
      "outputs": []
    },
    {
      "cell_type": "code",
      "metadata": {
        "id": "T_-hDKa0GNUc",
        "colab_type": "code",
        "colab": {
          "base_uri": "https://localhost:8080/",
          "height": 34
        },
        "outputId": "bfec617b-ab25-4473-fc8e-e9e4a08beb87"
      },
      "source": [
        "cd 'Distracted Driver Detection'"
      ],
      "execution_count": 6,
      "outputs": [
        {
          "output_type": "stream",
          "text": [
            "/content/Distracted Driver Detection\n"
          ],
          "name": "stdout"
        }
      ]
    },
    {
      "cell_type": "code",
      "metadata": {
        "id": "O0atVpnmGSE5",
        "colab_type": "code",
        "colab": {
          "base_uri": "https://localhost:8080/",
          "height": 119
        },
        "outputId": "c64728f7-8a1e-47e8-8936-797c602d5382"
      },
      "source": [
        "import pandas as pd\n",
        "driver_details = pd.read_csv('driver_imgs_list.csv', na_values='na')\n",
        "print(driver_details.head(5))"
      ],
      "execution_count": 7,
      "outputs": [
        {
          "output_type": "stream",
          "text": [
            "  subject classname            img\n",
            "0    p002        c0  img_44733.jpg\n",
            "1    p002        c0  img_72999.jpg\n",
            "2    p002        c0  img_25094.jpg\n",
            "3    p002        c0  img_69092.jpg\n",
            "4    p002        c0  img_92629.jpg\n"
          ],
          "name": "stdout"
        }
      ]
    },
    {
      "cell_type": "code",
      "metadata": {
        "id": "ht5_nKNYGasQ",
        "colab_type": "code",
        "colab": {}
      },
      "source": [
        "import os\n",
        "import cv2\n",
        "\n",
        "train_image = []\n",
        "image_label = []\n",
        "\n",
        "\n",
        "for i in range(10):\n",
        "    images = os.listdir(\"images/train/c\"+str(i))\n",
        "    for j in range(len(images)):\n",
        "        image_name = \"images/train/c\"+str(i)+\"/\"+images[j]\n",
        "        if (\".DS_Store\" not in image_name):\n",
        "          img = cv2.imread(image_name)\n",
        "          #mg = color.rgb2gray(img)\n",
        "          img = img[50:,120:-50]\n",
        "          img = cv2.resize(img,(224,224))\n",
        "          label = i\n",
        "          driver = driver_details[driver_details['img'] == images[j]]['subject'].values[0]\n",
        "          train_image.append([img,label,driver])\n",
        "          image_label.append(i)"
      ],
      "execution_count": 0,
      "outputs": []
    },
    {
      "cell_type": "code",
      "metadata": {
        "id": "XkvnQWr5bNzb",
        "colab_type": "code",
        "colab": {}
      },
      "source": [
        "import random\n",
        "random.shuffle(train_image)"
      ],
      "execution_count": 0,
      "outputs": []
    },
    {
      "cell_type": "markdown",
      "metadata": {
        "id": "sKKAIfHoF1cD",
        "colab_type": "text"
      },
      "source": [
        "** Splitting the train and test**"
      ]
    },
    {
      "cell_type": "code",
      "metadata": {
        "id": "zRIWG1GHFwjK",
        "colab_type": "code",
        "colab": {}
      },
      "source": [
        "driv_selected = ['p050', 'p015', 'p022', 'p056']"
      ],
      "execution_count": 0,
      "outputs": []
    },
    {
      "cell_type": "code",
      "metadata": {
        "id": "S5AzMhfjFwjQ",
        "colab_type": "code",
        "outputId": "c56db6d0-e339-4dbc-e3f7-e4c07f7e0a20",
        "colab": {
          "base_uri": "https://localhost:8080/",
          "height": 51
        }
      },
      "source": [
        "X_train= []\n",
        "y_train = []\n",
        "X_test = []\n",
        "y_test = []\n",
        "D_train = []\n",
        "D_test = []\n",
        "\n",
        "for features,labels,drivers in train_image:\n",
        "    if drivers in driv_selected:\n",
        "        X_test.append(features)\n",
        "        y_test.append(labels)\n",
        "        D_test.append(drivers)\n",
        "    \n",
        "    else:\n",
        "        X_train.append(features)\n",
        "        y_train.append(labels)\n",
        "        D_train.append(drivers)\n",
        "    \n",
        "print (len(X_train),len(X_test))\n",
        "print (len(y_train),len(y_test))"
      ],
      "execution_count": 12,
      "outputs": [
        {
          "output_type": "stream",
          "text": [
            "18732 3692\n",
            "18732 3692\n"
          ],
          "name": "stdout"
        }
      ]
    },
    {
      "cell_type": "code",
      "metadata": {
        "id": "3LHKkVNQFwjU",
        "colab_type": "code",
        "outputId": "448c03a8-61a5-4b5e-fb4b-f5a127fa0ce9",
        "colab": {
          "base_uri": "https://localhost:8080/",
          "height": 34
        }
      },
      "source": [
        "## Converting images to nparray. Encoding the Y\n",
        "import numpy as np\n",
        "from tensorflow.keras.utils import to_categorical\n",
        "\n",
        "X_train = np.array(X_train).reshape(-1,224,224,3)\n",
        "X_test = np.array(X_test).reshape(-1,224,224,3)\n",
        "y_train = to_categorical(y_train)\n",
        "y_test = to_categorical(y_test)\n",
        "\n",
        "\n",
        "print (X_train.shape)\n"
      ],
      "execution_count": 13,
      "outputs": [
        {
          "output_type": "stream",
          "text": [
            "(18732, 224, 224, 3)\n"
          ],
          "name": "stdout"
        }
      ]
    },
    {
      "cell_type": "code",
      "metadata": {
        "id": "ZhV-V_NPFwjX",
        "colab_type": "code",
        "outputId": "4f134c10-1ffb-435f-ab71-6774ad332efe",
        "colab": {
          "base_uri": "https://localhost:8080/",
          "height": 1000
        }
      },
      "source": [
        "## Defining the input\n",
        "from keras.applications.vgg16 import VGG16, preprocess_input, decode_predictions\n",
        "from keras.layers import Input\n",
        "vgg16_input = Input(shape = (224, 224, 3), name = 'Image_input')\n",
        "\n",
        "#Get back the convolutional part of a vgg16 network trained on ImageNet\n",
        "model_vgg16_conv = VGG16(weights='imagenet', include_top=False, input_shape= (224,224,3))\n",
        "model_vgg16_conv.summary()"
      ],
      "execution_count": 14,
      "outputs": [
        {
          "output_type": "stream",
          "text": [
            "WARNING:tensorflow:From /usr/local/lib/python3.6/dist-packages/keras/backend/tensorflow_backend.py:541: The name tf.placeholder is deprecated. Please use tf.compat.v1.placeholder instead.\n",
            "\n",
            "WARNING:tensorflow:From /usr/local/lib/python3.6/dist-packages/keras/backend/tensorflow_backend.py:66: The name tf.get_default_graph is deprecated. Please use tf.compat.v1.get_default_graph instead.\n",
            "\n",
            "WARNING:tensorflow:From /usr/local/lib/python3.6/dist-packages/keras/backend/tensorflow_backend.py:4432: The name tf.random_uniform is deprecated. Please use tf.random.uniform instead.\n",
            "\n",
            "WARNING:tensorflow:From /usr/local/lib/python3.6/dist-packages/keras/backend/tensorflow_backend.py:4267: The name tf.nn.max_pool is deprecated. Please use tf.nn.max_pool2d instead.\n",
            "\n"
          ],
          "name": "stdout"
        },
        {
          "output_type": "stream",
          "text": [
            "Using TensorFlow backend.\n"
          ],
          "name": "stderr"
        },
        {
          "output_type": "stream",
          "text": [
            "Downloading data from https://github.com/fchollet/deep-learning-models/releases/download/v0.1/vgg16_weights_tf_dim_ordering_tf_kernels_notop.h5\n",
            "58892288/58889256 [==============================] - 5s 0us/step\n",
            "WARNING:tensorflow:From /usr/local/lib/python3.6/dist-packages/keras/backend/tensorflow_backend.py:190: The name tf.get_default_session is deprecated. Please use tf.compat.v1.get_default_session instead.\n",
            "\n",
            "WARNING:tensorflow:From /usr/local/lib/python3.6/dist-packages/keras/backend/tensorflow_backend.py:197: The name tf.ConfigProto is deprecated. Please use tf.compat.v1.ConfigProto instead.\n",
            "\n",
            "WARNING:tensorflow:From /usr/local/lib/python3.6/dist-packages/keras/backend/tensorflow_backend.py:203: The name tf.Session is deprecated. Please use tf.compat.v1.Session instead.\n",
            "\n",
            "WARNING:tensorflow:From /usr/local/lib/python3.6/dist-packages/keras/backend/tensorflow_backend.py:207: The name tf.global_variables is deprecated. Please use tf.compat.v1.global_variables instead.\n",
            "\n",
            "WARNING:tensorflow:From /usr/local/lib/python3.6/dist-packages/keras/backend/tensorflow_backend.py:216: The name tf.is_variable_initialized is deprecated. Please use tf.compat.v1.is_variable_initialized instead.\n",
            "\n",
            "WARNING:tensorflow:From /usr/local/lib/python3.6/dist-packages/keras/backend/tensorflow_backend.py:223: The name tf.variables_initializer is deprecated. Please use tf.compat.v1.variables_initializer instead.\n",
            "\n",
            "Model: \"vgg16\"\n",
            "_________________________________________________________________\n",
            "Layer (type)                 Output Shape              Param #   \n",
            "=================================================================\n",
            "input_1 (InputLayer)         (None, 224, 224, 3)       0         \n",
            "_________________________________________________________________\n",
            "block1_conv1 (Conv2D)        (None, 224, 224, 64)      1792      \n",
            "_________________________________________________________________\n",
            "block1_conv2 (Conv2D)        (None, 224, 224, 64)      36928     \n",
            "_________________________________________________________________\n",
            "block1_pool (MaxPooling2D)   (None, 112, 112, 64)      0         \n",
            "_________________________________________________________________\n",
            "block2_conv1 (Conv2D)        (None, 112, 112, 128)     73856     \n",
            "_________________________________________________________________\n",
            "block2_conv2 (Conv2D)        (None, 112, 112, 128)     147584    \n",
            "_________________________________________________________________\n",
            "block2_pool (MaxPooling2D)   (None, 56, 56, 128)       0         \n",
            "_________________________________________________________________\n",
            "block3_conv1 (Conv2D)        (None, 56, 56, 256)       295168    \n",
            "_________________________________________________________________\n",
            "block3_conv2 (Conv2D)        (None, 56, 56, 256)       590080    \n",
            "_________________________________________________________________\n",
            "block3_conv3 (Conv2D)        (None, 56, 56, 256)       590080    \n",
            "_________________________________________________________________\n",
            "block3_pool (MaxPooling2D)   (None, 28, 28, 256)       0         \n",
            "_________________________________________________________________\n",
            "block4_conv1 (Conv2D)        (None, 28, 28, 512)       1180160   \n",
            "_________________________________________________________________\n",
            "block4_conv2 (Conv2D)        (None, 28, 28, 512)       2359808   \n",
            "_________________________________________________________________\n",
            "block4_conv3 (Conv2D)        (None, 28, 28, 512)       2359808   \n",
            "_________________________________________________________________\n",
            "block4_pool (MaxPooling2D)   (None, 14, 14, 512)       0         \n",
            "_________________________________________________________________\n",
            "block5_conv1 (Conv2D)        (None, 14, 14, 512)       2359808   \n",
            "_________________________________________________________________\n",
            "block5_conv2 (Conv2D)        (None, 14, 14, 512)       2359808   \n",
            "_________________________________________________________________\n",
            "block5_conv3 (Conv2D)        (None, 14, 14, 512)       2359808   \n",
            "_________________________________________________________________\n",
            "block5_pool (MaxPooling2D)   (None, 7, 7, 512)         0         \n",
            "=================================================================\n",
            "Total params: 14,714,688\n",
            "Trainable params: 14,714,688\n",
            "Non-trainable params: 0\n",
            "_________________________________________________________________\n"
          ],
          "name": "stdout"
        }
      ]
    },
    {
      "cell_type": "code",
      "metadata": {
        "id": "yOGpYNtrFwja",
        "colab_type": "code",
        "outputId": "71ff9598-25ad-4165-e650-02f808ad74ff",
        "colab": {
          "base_uri": "https://localhost:8080/",
          "height": 357
        }
      },
      "source": [
        "#Use the generated model \n",
        "from keras.models import Model\n",
        "import keras\n",
        "from keras.models import Sequential\n",
        "from keras.layers import Dropout, Flatten, Dense,GlobalAveragePooling2D\n",
        "from keras.layers import Flatten,Dropout\n",
        "from keras.layers import Conv2D, MaxPooling2D\n",
        "from keras.utils import to_categorical\n",
        "from keras.preprocessing import image \n",
        "from keras.layers.normalization import BatchNormalization\n",
        "from keras import optimizers\n",
        "\n",
        "output_vgg16_conv = model_vgg16_conv(vgg16_input)\n",
        "\n",
        "#Add the fully-connected layers \n",
        "\n",
        "x = Flatten(name='flatten')(output_vgg16_conv)\n",
        "x_output = Dense(10, activation='softmax', name='predictions')(x)\n",
        "vgg16_pretrained = Model(inputs = vgg16_input , outputs = x_output)\n",
        "vgg16_pretrained.summary()\n",
        "\n",
        "# Compile CNN model\n",
        "sdg = optimizers.SGD(lr = 0.001)\n",
        "vgg16_pretrained.compile(loss='categorical_crossentropy',optimizer = sdg,metrics=['accuracy'])\n"
      ],
      "execution_count": 15,
      "outputs": [
        {
          "output_type": "stream",
          "text": [
            "Model: \"model_1\"\n",
            "_________________________________________________________________\n",
            "Layer (type)                 Output Shape              Param #   \n",
            "=================================================================\n",
            "Image_input (InputLayer)     (None, 224, 224, 3)       0         \n",
            "_________________________________________________________________\n",
            "vgg16 (Model)                (None, 7, 7, 512)         14714688  \n",
            "_________________________________________________________________\n",
            "flatten (Flatten)            (None, 25088)             0         \n",
            "_________________________________________________________________\n",
            "predictions (Dense)          (None, 10)                250890    \n",
            "=================================================================\n",
            "Total params: 14,965,578\n",
            "Trainable params: 14,965,578\n",
            "Non-trainable params: 0\n",
            "_________________________________________________________________\n",
            "WARNING:tensorflow:From /usr/local/lib/python3.6/dist-packages/keras/optimizers.py:793: The name tf.train.Optimizer is deprecated. Please use tf.compat.v1.train.Optimizer instead.\n",
            "\n",
            "WARNING:tensorflow:From /usr/local/lib/python3.6/dist-packages/keras/backend/tensorflow_backend.py:3576: The name tf.log is deprecated. Please use tf.math.log instead.\n",
            "\n"
          ],
          "name": "stdout"
        }
      ]
    },
    {
      "cell_type": "markdown",
      "metadata": {
        "id": "SlAn7cYJFwjy",
        "colab_type": "text"
      },
      "source": [
        "### Running VGG with Image Augmentation\n"
      ]
    },
    {
      "cell_type": "code",
      "metadata": {
        "id": "pTeezEGQFwjz",
        "colab_type": "code",
        "outputId": "b866b7c7-3191-419a-f3d5-8d9acf238bab",
        "colab": {
          "base_uri": "https://localhost:8080/",
          "height": 1000
        }
      },
      "source": [
        "from keras.preprocessing.image import ImageDataGenerator\n",
        "from keras.callbacks import ModelCheckpoint,EarlyStopping\n",
        "\n",
        "checkpointer = ModelCheckpoint('vgg_weights_aug_setval_sgd.hdf5', verbose=1, save_best_only=True)\n",
        "earlystopper = EarlyStopping(monitor='val_loss', patience=10, verbose=1)\n",
        "\n",
        "\n",
        "datagen = ImageDataGenerator(\n",
        "    height_shift_range=0.5,\n",
        "    width_shift_range = 0.5,\n",
        "    zoom_range = 0.5,\n",
        "    rotation_range=30\n",
        "        )\n",
        "#datagen.fit(X_train)\n",
        "data_generator = datagen.flow(X_train, y_train, batch_size = 64)\n",
        "\n",
        "# Fits the model on batches with real-time data augmentation:\n",
        "vgg16_model = vgg16_pretrained.fit_generator(data_generator,steps_per_epoch = len(X_train) / 64, callbacks=[checkpointer, earlystopper],\n",
        "                                                            epochs = 25, verbose = 1, validation_data = (X_test, y_test))\n"
      ],
      "execution_count": 16,
      "outputs": [
        {
          "output_type": "stream",
          "text": [
            "WARNING:tensorflow:From /tensorflow-1.15.2/python3.6/tensorflow_core/python/ops/math_grad.py:1424: where (from tensorflow.python.ops.array_ops) is deprecated and will be removed in a future version.\n",
            "Instructions for updating:\n",
            "Use tf.where in 2.0, which has the same broadcast rule as np.where\n",
            "WARNING:tensorflow:From /usr/local/lib/python3.6/dist-packages/keras/backend/tensorflow_backend.py:1033: The name tf.assign_add is deprecated. Please use tf.compat.v1.assign_add instead.\n",
            "\n",
            "WARNING:tensorflow:From /usr/local/lib/python3.6/dist-packages/keras/backend/tensorflow_backend.py:1020: The name tf.assign is deprecated. Please use tf.compat.v1.assign instead.\n",
            "\n",
            "Epoch 1/25\n",
            "293/292 [==============================] - 204s 698ms/step - loss: 2.4664 - acc: 0.1170 - val_loss: 2.3070 - val_acc: 0.0910\n",
            "\n",
            "Epoch 00001: val_loss improved from inf to 2.30696, saving model to vgg_weights_aug_setval_sgd.hdf5\n",
            "Epoch 2/25\n",
            "293/292 [==============================] - 191s 652ms/step - loss: 2.2423 - acc: 0.1600 - val_loss: 2.2380 - val_acc: 0.1801\n",
            "\n",
            "Epoch 00002: val_loss improved from 2.30696 to 2.23804, saving model to vgg_weights_aug_setval_sgd.hdf5\n",
            "Epoch 3/25\n",
            "293/292 [==============================] - 191s 654ms/step - loss: 2.1692 - acc: 0.1891 - val_loss: 2.1325 - val_acc: 0.1750\n",
            "\n",
            "Epoch 00003: val_loss improved from 2.23804 to 2.13253, saving model to vgg_weights_aug_setval_sgd.hdf5\n",
            "Epoch 4/25\n",
            "293/292 [==============================] - 194s 660ms/step - loss: 1.9993 - acc: 0.2532 - val_loss: 1.8166 - val_acc: 0.2895\n",
            "\n",
            "Epoch 00004: val_loss improved from 2.13253 to 1.81657, saving model to vgg_weights_aug_setval_sgd.hdf5\n",
            "Epoch 5/25\n",
            "293/292 [==============================] - 194s 664ms/step - loss: 1.8016 - acc: 0.3287 - val_loss: 1.6113 - val_acc: 0.4006\n",
            "\n",
            "Epoch 00005: val_loss improved from 1.81657 to 1.61133, saving model to vgg_weights_aug_setval_sgd.hdf5\n",
            "Epoch 6/25\n",
            "293/292 [==============================] - 195s 667ms/step - loss: 1.4943 - acc: 0.4471 - val_loss: 1.3760 - val_acc: 0.5355\n",
            "\n",
            "Epoch 00006: val_loss improved from 1.61133 to 1.37595, saving model to vgg_weights_aug_setval_sgd.hdf5\n",
            "Epoch 7/25\n",
            "293/292 [==============================] - 192s 657ms/step - loss: 1.1674 - acc: 0.5783 - val_loss: 0.7999 - val_acc: 0.7497\n",
            "\n",
            "Epoch 00007: val_loss improved from 1.37595 to 0.79986, saving model to vgg_weights_aug_setval_sgd.hdf5\n",
            "Epoch 8/25\n",
            "293/292 [==============================] - 191s 652ms/step - loss: 0.9415 - acc: 0.6627 - val_loss: 0.7916 - val_acc: 0.7134\n",
            "\n",
            "Epoch 00008: val_loss improved from 0.79986 to 0.79156, saving model to vgg_weights_aug_setval_sgd.hdf5\n",
            "Epoch 9/25\n",
            "293/292 [==============================] - 190s 648ms/step - loss: 0.7903 - acc: 0.7215 - val_loss: 0.6282 - val_acc: 0.7630\n",
            "\n",
            "Epoch 00009: val_loss improved from 0.79156 to 0.62825, saving model to vgg_weights_aug_setval_sgd.hdf5\n",
            "Epoch 10/25\n",
            "293/292 [==============================] - 187s 640ms/step - loss: 0.7202 - acc: 0.7492 - val_loss: 0.7157 - val_acc: 0.7565\n",
            "\n",
            "Epoch 00010: val_loss did not improve from 0.62825\n",
            "Epoch 11/25\n",
            "293/292 [==============================] - 187s 638ms/step - loss: 0.6544 - acc: 0.7717 - val_loss: 0.5951 - val_acc: 0.8069\n",
            "\n",
            "Epoch 00011: val_loss improved from 0.62825 to 0.59506, saving model to vgg_weights_aug_setval_sgd.hdf5\n",
            "Epoch 12/25\n",
            "293/292 [==============================] - 187s 640ms/step - loss: 0.6200 - acc: 0.7830 - val_loss: 0.5447 - val_acc: 0.8510\n",
            "\n",
            "Epoch 00012: val_loss improved from 0.59506 to 0.54471, saving model to vgg_weights_aug_setval_sgd.hdf5\n",
            "Epoch 13/25\n",
            "293/292 [==============================] - 187s 639ms/step - loss: 0.5801 - acc: 0.7983 - val_loss: 0.5051 - val_acc: 0.8407\n",
            "\n",
            "Epoch 00013: val_loss improved from 0.54471 to 0.50510, saving model to vgg_weights_aug_setval_sgd.hdf5\n",
            "Epoch 14/25\n",
            "293/292 [==============================] - 185s 632ms/step - loss: 0.5323 - acc: 0.8107 - val_loss: 0.4976 - val_acc: 0.8448\n",
            "\n",
            "Epoch 00014: val_loss improved from 0.50510 to 0.49761, saving model to vgg_weights_aug_setval_sgd.hdf5\n",
            "Epoch 15/25\n",
            "293/292 [==============================] - 184s 628ms/step - loss: 0.5086 - acc: 0.8209 - val_loss: 0.5958 - val_acc: 0.8142\n",
            "\n",
            "Epoch 00015: val_loss did not improve from 0.49761\n",
            "Epoch 16/25\n",
            "293/292 [==============================] - 186s 634ms/step - loss: 0.4878 - acc: 0.8314 - val_loss: 0.7012 - val_acc: 0.7988\n",
            "\n",
            "Epoch 00016: val_loss did not improve from 0.49761\n",
            "Epoch 17/25\n",
            "293/292 [==============================] - 184s 628ms/step - loss: 0.4626 - acc: 0.8376 - val_loss: 0.5097 - val_acc: 0.8491\n",
            "\n",
            "Epoch 00017: val_loss did not improve from 0.49761\n",
            "Epoch 18/25\n",
            "293/292 [==============================] - 183s 626ms/step - loss: 0.4490 - acc: 0.8443 - val_loss: 0.7686 - val_acc: 0.7703\n",
            "\n",
            "Epoch 00018: val_loss did not improve from 0.49761\n",
            "Epoch 19/25\n",
            "293/292 [==============================] - 183s 626ms/step - loss: 0.4271 - acc: 0.8491 - val_loss: 0.6034 - val_acc: 0.8185\n",
            "\n",
            "Epoch 00019: val_loss did not improve from 0.49761\n",
            "Epoch 20/25\n",
            "293/292 [==============================] - 183s 626ms/step - loss: 0.4156 - acc: 0.8530 - val_loss: 0.8361 - val_acc: 0.7912\n",
            "\n",
            "Epoch 00020: val_loss did not improve from 0.49761\n",
            "Epoch 21/25\n",
            "293/292 [==============================] - 183s 625ms/step - loss: 0.3924 - acc: 0.8654 - val_loss: 0.6807 - val_acc: 0.8248\n",
            "\n",
            "Epoch 00021: val_loss did not improve from 0.49761\n",
            "Epoch 22/25\n",
            "293/292 [==============================] - 183s 625ms/step - loss: 0.3799 - acc: 0.8659 - val_loss: 0.6285 - val_acc: 0.8429\n",
            "\n",
            "Epoch 00022: val_loss did not improve from 0.49761\n",
            "Epoch 23/25\n",
            "293/292 [==============================] - 183s 626ms/step - loss: 0.3672 - acc: 0.8733 - val_loss: 0.9337 - val_acc: 0.7736\n",
            "\n",
            "Epoch 00023: val_loss did not improve from 0.49761\n",
            "Epoch 24/25\n",
            "293/292 [==============================] - 183s 625ms/step - loss: 0.3592 - acc: 0.8769 - val_loss: 0.5845 - val_acc: 0.8535\n",
            "\n",
            "Epoch 00024: val_loss did not improve from 0.49761\n",
            "Epoch 00024: early stopping\n"
          ],
          "name": "stdout"
        }
      ]
    },
    {
      "cell_type": "code",
      "metadata": {
        "id": "WbKXMkeCFwj3",
        "colab_type": "code",
        "outputId": "6e8c6453-c850-4877-c20e-71f8c6601a80",
        "colab": {
          "base_uri": "https://localhost:8080/",
          "height": 372
        }
      },
      "source": [
        "fig, axes = plt.subplots(1, 2, figsize = (10, 5))\n",
        "axes[0].plot(range(1, len(vgg16_pretrained.history.history['acc']) + 1), vgg16_pretrained.history.history['acc'], linestyle = 'solid', marker = 'o', color = 'crimson', label = 'Training Accuracy')\n",
        "axes[0].plot(range(1, len(vgg16_pretrained.history.history['val_acc']) + 1), vgg16_pretrained.history.history['val_acc'], linestyle = 'solid', marker = 'o', color = 'dodgerblue', label = 'Testing Accuracy')\n",
        "axes[0].set_xlabel('Epochs', fontsize = 14)\n",
        "axes[0].set_ylabel('Accuracy',fontsize = 14)\n",
        "axes[0].set_title('CNN Dropout Accuracy Trainig VS Testing', fontsize = 14)\n",
        "axes[0].legend(loc = 'best')\n",
        "axes[1].plot(range(1, len(vgg16_pretrained.history.history['loss']) + 1), vgg16_pretrained.history.history['loss'], linestyle = 'solid', marker = 'o', color = 'crimson', label = 'Training Loss')\n",
        "axes[1].plot(range(1, len(vgg16_pretrained.history.history['val_loss']) + 1), vgg16_pretrained.history.history['val_loss'], linestyle = 'solid', marker = 'o', color = 'dodgerblue', label = 'Testing Loss')\n",
        "axes[1].set_xlabel('Epochs', fontsize = 14)\n",
        "axes[1].set_ylabel('Loss',fontsize = 14)\n",
        "axes[1].set_title('CNN Dropout Loss Trainig VS Testing', fontsize = 14)\n",
        "axes[1].legend(loc = 'best')"
      ],
      "execution_count": 19,
      "outputs": [
        {
          "output_type": "execute_result",
          "data": {
            "text/plain": [
              "<matplotlib.legend.Legend at 0x7f63c741a4a8>"
            ]
          },
          "metadata": {
            "tags": []
          },
          "execution_count": 19
        },
        {
          "output_type": "display_data",
          "data": {
            "image/png": "[encoded data removed]",
            "text/plain": [
              "<Figure size 720x360 with 2 Axes>"
            ]
          },
          "metadata": {
            "tags": []
          }
        }
      ]
    }
  ]
}